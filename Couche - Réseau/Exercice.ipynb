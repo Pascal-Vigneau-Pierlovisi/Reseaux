{
 "cells": [
  {
   "cell_type": "markdown",
   "id": "4b94893a",
   "metadata": {},
   "source": [
    "# Exercices"
   ]
  },
  {
   "cell_type": "code",
   "execution_count": 10,
   "id": "6976f355",
   "metadata": {},
   "outputs": [
    {
     "name": "stdout",
     "output_type": "stream",
     "text": [
      "E  =  0.508268970745713\n",
      "A  =  0.9810921118148654\n",
      "S  =  1.3481593545012935\n",
      "T  =  1.6396678496832715\n",
      "U  =  1.8832014710264855\n",
      "Y  =  2.0992978757708536\n"
     ]
    }
   ],
   "source": [
    "import math\n",
    "\n",
    "dico = {\n",
    "    \"E\" : 0.48,\n",
    "    \"A\" : 0.21,\n",
    "    \"S\" : 0.12,\n",
    "    \"T\" : 0.08,\n",
    "    \"U\" : 0.06,\n",
    "    \"Y\" : 0.05\n",
    "}\n",
    "\n",
    "somme = 0\n",
    "\n",
    "for key, value in dico.items():\n",
    "    somme += value * (math.log(1/value, 2))\n",
    "    \n",
    "    print(key, \" = \", somme)\n",
    "    "
   ]
  },
  {
   "cell_type": "code",
   "execution_count": null,
   "id": "f75fddab",
   "metadata": {},
   "outputs": [],
   "source": []
  },
  {
   "cell_type": "code",
   "execution_count": null,
   "id": "749d47cc",
   "metadata": {},
   "outputs": [],
   "source": []
  }
 ],
 "metadata": {
  "kernelspec": {
   "display_name": "Python 3 (ipykernel)",
   "language": "python",
   "name": "python3"
  },
  "language_info": {
   "codemirror_mode": {
    "name": "ipython",
    "version": 3
   },
   "file_extension": ".py",
   "mimetype": "text/x-python",
   "name": "python",
   "nbconvert_exporter": "python",
   "pygments_lexer": "ipython3",
   "version": "3.9.12"
  }
 },
 "nbformat": 4,
 "nbformat_minor": 5
}
